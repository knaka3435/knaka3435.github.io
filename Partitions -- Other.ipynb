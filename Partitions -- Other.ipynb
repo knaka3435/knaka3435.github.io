{
 "cells": [
  {
   "cell_type": "code",
   "execution_count": 3,
   "metadata": {},
   "outputs": [
    {
     "name": "stdout",
     "output_type": "stream",
     "text": [
      "Ready to use!\n"
     ]
    }
   ],
   "source": [
    "import math\n",
    "import copy\n",
    "def hamming(n): # 11=1011_2 -> w(11) = 3\n",
    "    ans = 0\n",
    "    while (n > 0):\n",
    "        ans += n%2\n",
    "        n //= 2\n",
    "    return ans\n",
    "def v2(n): #returns \\nu_2(n), ex v2(24) = 3, v2(5) = 0, etc.\n",
    "    ans = 0\n",
    "    while (n%2 == 0):\n",
    "        ans += 1\n",
    "        n//= 2\n",
    "    return ans\n",
    "def vadd(a : list,b : list) -> list: #vector addition, [2]+[3,4] = [5,4]\n",
    "    if len(b) > len(a): #a is longer\n",
    "        a,b = b,a\n",
    "    b = b + [0]*(len(a)-len(b)) #pads zeroes\n",
    "    ans = []\n",
    "    for i in range(len(a)):\n",
    "        ans.append(a[i]+b[i])\n",
    "    return ans\n",
    "def tprint(a):\n",
    "    for i in a:\n",
    "        out = \"\"\n",
    "        for j in i:\n",
    "            out += \"{:2d}\".format(j) + \" \"\n",
    "        print(out)\n",
    "class YT:\n",
    "    def __init__(self,partition : tuple):\n",
    "        self.part = partition\n",
    "        self.validate()\n",
    "        self.sum = sum(partition)\n",
    "        self.et = []\n",
    "        for i in partition: #empty-ish tableaux\n",
    "            self.et.append([-1,]*i)\n",
    "    def validate(self): #checks to make sure it is valid partition\n",
    "        localpart = self.part\n",
    "        for i in range(len(localpart)-1):\n",
    "            if localpart[i] < localpart[i+1]:\n",
    "                raise ValueError(\"Not a valid partition\")\n",
    "        if localpart[-1] <= 0:\n",
    "            raise ValueError(\"Not a valid partition\")\n",
    "    def HL(self):\n",
    "        localpart = self.part\n",
    "        self.hlt = copy.deepcopy(self.et)\n",
    "        curx = []\n",
    "        for i in range(len(localpart)-1,-1,-1): #HL contribution from column\n",
    "            curx = vadd(curx,[1]*localpart[i])\n",
    "            self.hlt[i] = vadd(curx,self.hlt[i])\n",
    "        for i in range(len(localpart)): #HL contribution from row\n",
    "            for j in range(localpart[i]):\n",
    "                self.hlt[i][j] += localpart[i]-j\n",
    "    def v2HL(self):\n",
    "        ans = 0\n",
    "        self.v2t = []\n",
    "        for i in self.hlt:\n",
    "            work = []\n",
    "            for j in i:\n",
    "                work.append(v2(j))\n",
    "                ans += v2(j)\n",
    "            self.v2t.append(work)\n",
    "        return ans\n",
    "    def numSYT(self): #number of syt\n",
    "        ans = math.factorial(self.sum)\n",
    "        for i in range(len(self.part)):\n",
    "            for j in range(self.part[i]):\n",
    "                ans //= self.hlt[i][j]\n",
    "        return ans\n",
    "    def __str__(self):\n",
    "        out = \"\"\n",
    "        out += \"Partition: \" + str(self.part)\n",
    "        return out\n",
    "    def isSym(self): #returns True if symmetric partition\n",
    "        curx = []\n",
    "        for i in range(len(self.part)-1,-1,-1):\n",
    "            curx = vadd(curx,[1]*self.part[i])\n",
    "        return tuple(curx) == self.part\n",
    "print(\"Ready to use!\")"
   ]
  },
  {
   "cell_type": "code",
   "execution_count": 26,
   "metadata": {},
   "outputs": [],
   "source": [
    "part1 = YT([4, 4, 1, 1, 1])"
   ]
  },
  {
   "cell_type": "code",
   "execution_count": 27,
   "metadata": {},
   "outputs": [
    {
     "name": "stdout",
     "output_type": "stream",
     "text": [
      " 3  2  0  1 \n",
      " 0  0  1  0 \n",
      " 0 \n",
      " 1 \n",
      " 0 \n"
     ]
    }
   ],
   "source": [
    "part1.HL()\n",
    "part1.v2HL()\n",
    "tprint(part1.v2t)"
   ]
  },
  {
   "cell_type": "code",
   "execution_count": 28,
   "metadata": {},
   "outputs": [
    {
     "name": "stdout",
     "output_type": "stream",
     "text": [
      "[0, 0, 0, 0, 0, 0, 1, 1, 1, 2, 3]\n"
     ]
    }
   ],
   "source": [
    "n = part1.sum\n",
    "print(sorted([v2(i) for i in range(1,n+1)]))"
   ]
  },
  {
   "cell_type": "code",
   "execution_count": 31,
   "metadata": {},
   "outputs": [
    {
     "name": "stdout",
     "output_type": "stream",
     "text": [
      "[0, 0, 0, 0, 0, 0, 1, 1, 1, 2, 3]\n"
     ]
    }
   ],
   "source": [
    "work = []\n",
    "for i in part1.v2t:\n",
    "    work += i\n",
    "print(sorted(work))"
   ]
  },
  {
   "cell_type": "code",
   "execution_count": 13,
   "metadata": {},
   "outputs": [],
   "source": [
    "def accel_asc(n): #from http://jeromekelleher.net/generating-integer-partitions.html\n",
    "    a = [0 for i in range(n + 1)]\n",
    "    k = 1\n",
    "    y = n - 1\n",
    "    while k != 0:\n",
    "        x = a[k - 1] + 1\n",
    "        k -= 1\n",
    "        while 2 * x <= y:\n",
    "            a[k] = x\n",
    "            y -= x\n",
    "            k += 1\n",
    "        l = k + 1\n",
    "        while x <= y:\n",
    "            a[k] = x\n",
    "            a[l] = y\n",
    "            yield a[:k + 2]\n",
    "            x += 1\n",
    "            y -= 1\n",
    "        a[k] = x + y\n",
    "        y = x + y - 1\n",
    "        yield a[:k + 1]"
   ]
  },
  {
   "cell_type": "code",
   "execution_count": 24,
   "metadata": {},
   "outputs": [
    {
     "name": "stdout",
     "output_type": "stream",
     "text": [
      "[1, 1, 1, 1, 1, 1, 1, 1, 1, 1, 1]\n",
      "[3, 1, 1, 1, 1, 1, 1, 1, 1]\n",
      "[3, 2, 1, 1, 1, 1, 1, 1]\n",
      "[3, 3, 1, 1, 1, 1, 1]\n",
      "[2, 2, 2, 2, 1, 1, 1]\n",
      "[4, 4, 1, 1, 1]\n",
      "[3, 2, 2, 2, 1, 1]\n",
      "[5, 4, 1, 1]\n",
      "[9, 1, 1]\n",
      "[4, 2, 2, 2, 1]\n",
      "[8, 2, 1]\n",
      "[6, 4, 1]\n",
      "[5, 2, 2, 2]\n",
      "[7, 2, 2]\n",
      "[7, 4]\n",
      "[11]\n"
     ]
    }
   ],
   "source": [
    "for i in accel_asc(11):\n",
    "    goal = 8\n",
    "    i.reverse()\n",
    "    a = YT(i)\n",
    "    a.HL()\n",
    "    count = 0\n",
    "    if a.v2HL() == goal:\n",
    "        count = count + 1\n",
    "        print(i)"
   ]
  },
  {
   "cell_type": "code",
   "execution_count": null,
   "metadata": {},
   "outputs": [],
   "source": []
  }
 ],
 "metadata": {
  "kernelspec": {
   "display_name": "Python 3",
   "language": "python",
   "name": "python3"
  },
  "language_info": {
   "codemirror_mode": {
    "name": "ipython",
    "version": 3
   },
   "file_extension": ".py",
   "mimetype": "text/x-python",
   "name": "python",
   "nbconvert_exporter": "python",
   "pygments_lexer": "ipython3",
   "version": "3.8.2"
  }
 },
 "nbformat": 4,
 "nbformat_minor": 4
}
