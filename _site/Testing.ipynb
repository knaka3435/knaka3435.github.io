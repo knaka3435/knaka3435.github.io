{
 "cells": [
  {
   "cell_type": "code",
   "execution_count": 22,
   "metadata": {},
   "outputs": [
    {
     "data": {
      "application/json": "{\"LastUpdated\":\"2020-06-21T23:50:55.930069-05:00\",\"IsCompleted\":true,\"Description\":\"Adding package Microsoft.Quantum.Standard::0.11.2004.2825\",\"Subtask\":\"done\"}",
      "text/plain": [
       "Adding package Microsoft.Quantum.Standard::0.11.2004.2825: done!"
      ]
     },
     "metadata": {},
     "output_type": "display_data"
    },
    {
     "data": {
      "application/json": "[\"Microsoft.Quantum.Standard::0.11.2004.2825\"]",
      "text/html": [
       "<ul><li>Microsoft.Quantum.Standard::0.11.2004.2825</li></ul>"
      ],
      "text/plain": [
       "Microsoft.Quantum.Standard::0.11.2004.2825"
      ]
     },
     "execution_count": 22,
     "metadata": {},
     "output_type": "execute_result"
    }
   ],
   "source": [
    "%package Microsoft.Quantum.Standard::0.11.2004.2825"
   ]
  },
  {
   "cell_type": "code",
   "execution_count": null,
   "metadata": {
    "scrolled": true
   },
   "outputs": [],
   "source": [
    "open Microsoft.Quantum.Diagnostics;\n",
    "open Microsoft.Quantum.Math;\n",
    "operation TestingHarness () : Unit {\n",
    "    let divider = \"---------------------------------\";\n",
    "    using (qs = Qubit[3]) { //initializes the qubit register\n",
    "        using (q = Qubit()) {\n",
    "            for (i in qs) {\n",
    "                H(i);\n",
    "            }\n",
    "            let a = [true,false,false];\n",
    "            //CNOT(qs[0],q);\n",
    "            (ControlledOnBitString(a,X))(qs,q);\n",
    "            DumpMachine(); //see if you scrwed up or not.\n",
    "            ResetAll(qs); //Do this otherwise exception\n",
    "            Reset(q);\n",
    "        }\n",
    "    } \n",
    "\n",
    "}"
   ]
  },
  {
   "cell_type": "code",
   "execution_count": null,
   "metadata": {
    "scrolled": true
   },
   "outputs": [],
   "source": [
    "%simulate TestingHarness"
   ]
  },
  {
   "cell_type": "code",
   "execution_count": null,
   "metadata": {},
   "outputs": [],
   "source": [
    "open Microsoft.Quantum.Diagnostics;\n",
    "open Microsoft.Quantum.Math;\n",
    "operation DoesWork (qtarget : Qubit) : Unit is Adj+Ctl{\n",
    "    X(qtarget);\n",
    "    Z(qtarget);\n",
    "    X(qtarget);\n",
    "}\n",
    "\n",
    "operation Solve () : Int {\n",
    "        let unitary = Z;\n",
    "        using (qs = Qubit[2]) {\n",
    "            ApplyToEach(H,qs);\n",
    "            (Controlled unitary)([qs[0]],qs[1]);\n",
    "            H(qs[0]);\n",
    "            if (M(qs[0]) == M(qs[1])) {\n",
    "                if (M(qs[0]) == One) {\n",
    "                    ApplyToEach(X,qs);\n",
    "                }\n",
    "                return 0;\n",
    "            }\n",
    "            else {\n",
    "                if (M(qs[0]) == One) {\n",
    "                    X(qs[0]);\n",
    "                }\n",
    "                else {\n",
    "                    X(qs[1]);\n",
    "                }\n",
    "                return 1;\n",
    "            }\n",
    "        }\n",
    "    }"
   ]
  },
  {
   "cell_type": "code",
   "execution_count": null,
   "metadata": {},
   "outputs": [],
   "source": [
    "%simulate Solve"
   ]
  },
  {
   "cell_type": "code",
   "execution_count": null,
   "metadata": {},
   "outputs": [],
   "source": [
    "open Microsoft.Quantum.Diagnostics;\n",
    "open Microsoft.Quantum.Canon;\n",
    "operation SolveDecr() : Unit{\n",
    "    using (qs = Qubit[4]) {\n",
    "        let N = Length(qs);\n",
    "        H(qs[0]);\n",
    "        for (k in 0..3) {\n",
    "            for (i in 1..N-1) {\n",
    "                Adjoint (ControlledOnInt(2^i-1, X))(qs[0..i-1],qs[i]);\n",
    "            }\n",
    "            (Adjoint X)(qs[0]);\n",
    "            DumpMachine();\n",
    "        }\n",
    "        ResetAll(qs);\n",
    "    }\n",
    "}"
   ]
  },
  {
   "cell_type": "code",
   "execution_count": null,
   "metadata": {
    "scrolled": true
   },
   "outputs": [],
   "source": [
    "open Microsoft.Quantum.Intrinsic;\n",
    "open Microsoft.Quantum.Canon;\n",
    "open Microsoft.Quantum.Measurement;\n",
    "open Microsoft.Quantum.Diagnostics;\n",
    "operation Solve () : Unit {\n",
    "    using (qs = Qubit[2]) {\n",
    "        using (q = Qubit()) {\n",
    "            repeat {\n",
    "                ResetAll(qs);\n",
    "                ApplyToEach(H,qs);\n",
    "                CCNOT(qs[0],qs[1],q);\n",
    "                let ans = MResetZ(q);\n",
    "            }\n",
    "            until (ans == Zero);\n",
    "            ApplyToEach(X,qs);\n",
    "        }\n",
    "        DumpMachine();\n",
    "        ResetAll(qs);\n",
    "    }\n",
    "}"
   ]
  },
  {
   "cell_type": "code",
   "execution_count": null,
   "metadata": {},
   "outputs": [],
   "source": [
    "%simulate SolveDecr"
   ]
  },
  {
   "cell_type": "code",
   "execution_count": null,
   "metadata": {},
   "outputs": [],
   "source": [
    "open Microsoft.Quantum.Intrinsic;\n",
    "open Microsoft.Quantum.Measurement;\n",
    "open Microsoft.Quantum.Canon;\n",
    "operation unitary2 (qs : Qubit[]) : Unit is Adj+Ctl {\n",
    "    CNOT(qs[0],qs[1]);\n",
    "}\n",
    "operation SolveA2 (unitary : (Qubit[] => Unit is Adj+Ctl)) : Int {\n",
    "        mutable inconclusive = false;\n",
    "        mutable ans = -1;\n",
    "        using (qs = Qubit[2]) {\n",
    "            X(qs[0]);\n",
    "            unitary(qs);\n",
    "            if (M(qs[0]) == One and M(qs[1]) == One) {\n",
    "                set ans = 1; //CNOT12\n",
    "            }\n",
    "            elif (M(qs[0]) == Zero and M(qs[1]) == One) {\n",
    "                set ans  = 3; //SWAP\n",
    "            }\n",
    "            else {\n",
    "                set inconclusive = true;\n",
    "            }\n",
    "            ResetAll(qs);\n",
    "            X(qs[1]);\n",
    "            unitary(qs);\n",
    "            if (inconclusive and (M(qs[0]) == Zero and M(qs[1]) == One)) {\n",
    "                set ans = 0; //I x I\n",
    "            }\n",
    "            elif (M(qs[0]) == One and M(qs[1]) == One) {\n",
    "                set ans = 2;//CNOT21\n",
    "            }\n",
    "            ResetAll(qs);\n",
    "            return ans;\n",
    "        }\n",
    "}\n"
   ]
  },
  {
   "cell_type": "code",
   "execution_count": null,
   "metadata": {},
   "outputs": [],
   "source": [
    "open Microsoft.Quantum.Diagnostics;\n",
    "operation a3unitary(d : Double, q : Qubit) : Unit is Adj+Ctl{\n",
    "    Rz(d,q);\n",
    "}\n",
    "operation Solve() : Int {\n",
    "    using (qs = Qubit[2]) {\n",
    "            H(qs[0]);\n",
    "            (Controlled a3unitary)([qs[0]],(2.0*3.14159265358,qs[1]));\n",
    "            H(qs[0]);\n",
    "            DumpMachine();\n",
    "            if (M(qs[0]) == One) {\n",
    "                X(qs[0]);\n",
    "                return 0;\n",
    "            }\n",
    "            else {\n",
    "                return 1;\n",
    "            }\n",
    "        }\n",
    "}"
   ]
  },
  {
   "cell_type": "code",
   "execution_count": null,
   "metadata": {},
   "outputs": [],
   "source": [
    "%simulate Solve"
   ]
  },
  {
   "cell_type": "code",
   "execution_count": null,
   "metadata": {},
   "outputs": [],
   "source": [
    "open Microsoft.Quantum.Intrinsic;\n",
    "open Microsoft.Quantum.Canon;\n",
    "open Microsoft.Quantum.Diagnostics;\n",
    "open Microsoft.Quantum.Measurement;\n",
    "operation Solve(qs : Qubit[], parity : Int) : Unit{\n",
    "    let N = Length(qs);\n",
    "    using (q = Qubit()) {\n",
    "        repeat {\n",
    "            ResetAll(qs);\n",
    "            ApplyToEach(H,qs);\n",
    "            for (i in 0..N-1) {\n",
    "                CNOT(qs[i],q);\n",
    "            }\n",
    "        }\n",
    "        until (((M(q) == Zero) and (parity == 0)) or ((parity == 1) and (M(q) == One)));\n",
    "        Reset(q);\n",
    "    }\n",
    "}"
   ]
  },
  {
   "cell_type": "code",
   "execution_count": null,
   "metadata": {},
   "outputs": [],
   "source": [
    "open Microsoft.Quantum.Diagnostics;\n",
    "operation Harness() : Unit {\n",
    "    using (qs = Qubit[2]) {\n",
    "        Solve(qs,0);\n",
    "        DumpMachine();\n",
    "        ResetAll(qs);\n",
    "    }\n",
    "}"
   ]
  },
  {
   "cell_type": "code",
   "execution_count": null,
   "metadata": {},
   "outputs": [],
   "source": [
    "%simulate Harness"
   ]
  },
  {
   "cell_type": "code",
   "execution_count": null,
   "metadata": {},
   "outputs": [],
   "source": [
    "//B2\n",
    "open Microsoft.Quantum.Intrinsic;\n",
    "open Microsoft.Quantum.Canon;\n",
    "open Microsoft.Quantum.Diagnostics;\n",
    "open Microsoft.Quantum.Measurement;\n",
    "operation IncrMod3(qs : Qubit[]) : Unit is Adj+Ctl {\n",
    "    ControlledOnBitString([true,false], X)()\n",
    "}\n",
    "operation Solve(qs : Qubit[]) : Unit is Adj+Ctl {\n",
    "    let N = Length(qs);\n",
    "    using (qaux = Qubit[2]) { //Use a quantum adder (use mod 3)\n",
    "        \n",
    "    }\n",
    "}"
   ]
  },
  {
   "cell_type": "code",
   "execution_count": null,
   "metadata": {},
   "outputs": [],
   "source": [
    "//A6\n",
    "open Microsoft.Quantum.Measurement;\n",
    "open Microsoft.Quantum.Canon;\n",
    "open Microsoft.Quantum.Diagnostics;\n",
    "operation xgate(q : Qubit) : Unit is Ctl+Adj {\n",
    "    X(q);\n",
    "}\n",
    "operation ygate(q : Qubit) : Unit is Ctl+Adj {\n",
    "    Y(q);\n",
    "}\n",
    "operation zgate(q : Qubit) : Unit is Ctl+Adj {\n",
    "    Z(q);\n",
    "}\n",
    "operation igate(q : Qubit) : Unit is Ctl+Adj {\n",
    "    X(q);\n",
    "    X(q);\n",
    "}\n",
    "operation Solve() : Int {\n",
    "    mutable ans = 0;\n",
    "        using (qs = Qubit[2]) {\n",
    "            H(qs[0]);\n",
    "            CNOT(qs[0],qs[1]);\n",
    "            zgate(qs[1]);\n",
    "            CNOT(qs[0],qs[1]);\n",
    "            H(qs[0]);\n",
    "            DumpMachine();\n",
    "            let a = M(qs[0]);\n",
    "            let b = M(qs[1]);\n",
    "            if (a == Zero and b == Zero) {\n",
    "                set ans = 0;\n",
    "            }\n",
    "            elif (a == Zero and b == One) {\n",
    "                set ans = 1;\n",
    "            }\n",
    "            elif ( a == One and b == Zero) {\n",
    "                set ans = 3;\n",
    "            }\n",
    "            else {\n",
    "                set ans = 2;\n",
    "            }\n",
    "        ResetAll(qs);\n",
    "        }\n",
    "        return ans;\n",
    "}"
   ]
  },
  {
   "cell_type": "code",
   "execution_count": null,
   "metadata": {},
   "outputs": [],
   "source": [
    "%simulate Solve"
   ]
  },
  {
   "cell_type": "code",
   "execution_count": null,
   "metadata": {},
   "outputs": [],
   "source": [
    "//A7\n",
    "open Microsoft.Quantum.Intrinsic;\n",
    "    open Microsoft.Quantum.Canon;\n",
    "    open Microsoft.Quantum.Measurement;\n",
    "    open Microsoft.Quantum.Diagnostics;\n",
    "operation unitary1(q : Qubit) : Unit is Adj+Ctl{\n",
    "    Z(q);\n",
    "    X(q);\n",
    "}\n",
    "operation Helper(q : Qubit) : Unit is Adj+Ctl { //introduces global phase of i\n",
    "    S(q);\n",
    "    X(q);\n",
    "    S(q);\n",
    "    X(q);\n",
    "}\n",
    "    operation Modify (q : Qubit, unitary : (Qubit => Unit is Adj+Ctl)) : Unit is Adj+Ctl{\n",
    "        X(q);\n",
    "        Z(q);\n",
    "        unitary(q);\n",
    "    }\n",
    "\n",
    "    operation Solve () : Int {\n",
    "        mutable img = false;\n",
    "        mutable neg = false;\n",
    "        mutable ans = -1;\n",
    "        using (qs = Qubit[2]) {\n",
    "            ApplyToEach(H,qs);\n",
    "            (Controlled Modify)([qs[0]],(qs[1],unitary1));\n",
    "            (Controlled Modify)([qs[0]],(qs[1],unitary1));\n",
    "            ApplyToEach(H,qs);\n",
    "            DumpMachine();\n",
    "            if (M(qs[0]) == One) {\n",
    "                set img = true;\n",
    "            }\n",
    "            ResetAll(qs);\n",
    "            H(qs[0]);\n",
    "            if (img) {\n",
    "                (Controlled Helper)([qs[0]],qs[1]);\n",
    "            }\n",
    "            (Controlled Modify)([qs[0]],(qs[1],unitary1));\n",
    "            H(qs[0]);\n",
    "            if (M(qs[0]) == One) {\n",
    "                set neg = true;\n",
    "            }\n",
    "            DumpMachine();\n",
    "            ResetAll(qs);\n",
    "            Message($\"{img} and {neg}\");\n",
    "            if (img and neg) {\n",
    "                return 0;\n",
    "            }\n",
    "            elif (img and not(neg)) {\n",
    "                return 2;\n",
    "            }\n",
    "            elif (not(img) and neg) {\n",
    "                return 1;\n",
    "            }\n",
    "            else {\n",
    "                return 3;\n",
    "            }\n",
    "        }\n",
    "    }"
   ]
  },
  {
   "cell_type": "code",
   "execution_count": null,
   "metadata": {},
   "outputs": [],
   "source": [
    "%simulate Solve"
   ]
  },
  {
   "cell_type": "code",
   "execution_count": null,
   "metadata": {},
   "outputs": [],
   "source": [
    "//B2\n",
    "open Microsoft.Quantum.Intrinsic;\n",
    "open Microsoft.Quantum.Canon;\n",
    "open Microsoft.Quantum.Measurement;\n",
    "open Microsoft.Quantum.Diagnostics;\n",
    "operation AddMod3 (qs : Qubit[], anc : Qubit[]) : Unit is Adj+Ctl {\n",
    "    for (q in qs) {\n",
    "        (ControlledOnBitString([true,false], X))([q,anc[1]],anc[0]);\n",
    "        (ControlledOnBitString([true,false], X))([q,anc[0]],anc[1]);\n",
    "    }\n",
    "}\n",
    "operation Solve (qs : Qubit[], y : Qubit) : Unit is Adj+Ctl {\n",
    "    using (anc = Qubit[2]) {\n",
    "        ApplyWithCA(AddMod3(qs,_), (ControlledOnInt(0,X))(_,y),anc);\n",
    "    }\n",
    "}\n",
    "operation Observe() : Unit {\n",
    "    using ((qs,y,anc) = (Qubit[3], Qubit(),Qubit[2])) {\n",
    "        let N = Length(qs);\n",
    "        ApplyToEach(H,qs);\n",
    "        DumpRegister((),qs+[y]);\n",
    "        AddMod3(qs,anc);\n",
    "        AddMod3(qs[0..2..N-1],anc);\n",
    "        (ControlledOnInt(0,X))(anc,y);\n",
    "        (Adjoint AddMod3)(qs[0..2..N-1],anc);\n",
    "        (Adjoint AddMod3)(qs,anc);\n",
    "        DumpRegister((),qs+[y]+anc);\n",
    "        ResetAll(qs);\n",
    "        ResetAll(anc);\n",
    "        Reset(y);\n",
    "    }\n",
    "}"
   ]
  },
  {
   "cell_type": "code",
   "execution_count": null,
   "metadata": {},
   "outputs": [],
   "source": [
    "%simulate Observe"
   ]
  },
  {
   "cell_type": "code",
   "execution_count": 19,
   "metadata": {},
   "outputs": [
    {
     "name": "stdout",
     "output_type": "stream",
     "text": [
      "/snippet_.qs(1,90): warning QS6003: The namespace is already open.\n",
      "/snippet_.qs(2,6): warning QS6003: The namespace is already open.\n"
     ]
    },
    {
     "data": {
      "application/json": "[\"Decr\",\"Incr\",\"Solve\"]",
      "text/html": [
       "<ul><li>Decr</li><li>Incr</li><li>Solve</li></ul>"
      ],
      "text/plain": [
       "Decr, Incr, Solve"
      ]
     },
     "execution_count": 19,
     "metadata": {},
     "output_type": "execute_result"
    }
   ],
   "source": [
    "open Microsoft.Quantum.Intrinsic;\n",
    "open Microsoft.Quantum.Canon;\n",
    "operation Incr (qarray : Qubit[]) : Unit is Adj+Ctl {\n",
    "    for (i in Length(qarray)-1..-1..1) {\n",
    "        (ControlledOnInt(2^i-1, X))(qarray[0..i-1],qarray[i]);\n",
    "    }\n",
    "    X(qarray[0]);\n",
    "}\n",
    "operation Decr (qarray : Qubit[]) : Unit is Adj+Ctl {\n",
    "    X(qarray[0]);\n",
    "    for (i in 1..Length(qarray)-1) {\n",
    "        (ControlledOnInt(2^i-1,X))(qarray[0..i-1],qarray[i]);\n",
    "    }\n",
    "}\n",
    "operation Solve(inputs : Qubit[], output : Qubit) : Unit is Adj+Ctl {\n",
    "    let N = Length(inputs);\n",
    "    if (N == 10) {\n",
    "        (ControlledOnBitString([false, false, false, false, false, true, true, true, true, true], X))(inputs, output);\n",
    "(ControlledOnBitString([false, false, false, false, true, false, true, true, true, true], X))(inputs, output);\n",
    "(ControlledOnBitString([false, false, false, false, true, true, false, true, true, true], X))(inputs, output);\n",
    "(ControlledOnBitString([false, false, false, false, true, true, true, false, true, true], X))(inputs, output);\n",
    "(ControlledOnBitString([false, false, false, false, true, true, true, true, false, true], X))(inputs, output);\n",
    "(ControlledOnBitString([false, false, false, false, true, true, true, true, true, false], X))(inputs, output);\n",
    "(ControlledOnBitString([false, false, false, true, false, false, true, true, true, true], X))(inputs, output);\n",
    "(ControlledOnBitString([false, false, false, true, false, true, false, true, true, true], X))(inputs, output);\n",
    "(ControlledOnBitString([false, false, false, true, false, true, true, false, true, true], X))(inputs, output);\n",
    "(ControlledOnBitString([false, false, false, true, false, true, true, true, false, true], X))(inputs, output);\n",
    "(ControlledOnBitString([false, false, false, true, false, true, true, true, true, false], X))(inputs, output);\n",
    "(ControlledOnBitString([false, false, false, true, true, false, false, true, true, true], X))(inputs, output);\n",
    "(ControlledOnBitString([false, false, false, true, true, false, true, false, true, true], X))(inputs, output);\n",
    "(ControlledOnBitString([false, false, false, true, true, false, true, true, false, true], X))(inputs, output);\n",
    "(ControlledOnBitString([false, false, false, true, true, false, true, true, true, false], X))(inputs, output);\n",
    "(ControlledOnBitString([false, false, false, true, true, true, false, false, true, true], X))(inputs, output);\n",
    "(ControlledOnBitString([false, false, false, true, true, true, false, true, false, true], X))(inputs, output);\n",
    "(ControlledOnBitString([false, false, false, true, true, true, false, true, true, false], X))(inputs, output);\n",
    "(ControlledOnBitString([false, false, false, true, true, true, true, false, false, true], X))(inputs, output);\n",
    "(ControlledOnBitString([false, false, false, true, true, true, true, false, true, false], X))(inputs, output);\n",
    "(ControlledOnBitString([false, false, false, true, true, true, true, true, false, false], X))(inputs, output);\n",
    "(ControlledOnBitString([false, false, true, false, false, false, true, true, true, true], X))(inputs, output);\n",
    "(ControlledOnBitString([false, false, true, false, false, true, false, true, true, true], X))(inputs, output);\n",
    "(ControlledOnBitString([false, false, true, false, false, true, true, false, true, true], X))(inputs, output);\n",
    "(ControlledOnBitString([false, false, true, false, false, true, true, true, false, true], X))(inputs, output);\n",
    "(ControlledOnBitString([false, false, true, false, false, true, true, true, true, false], X))(inputs, output);\n",
    "(ControlledOnBitString([false, false, true, false, true, false, false, true, true, true], X))(inputs, output);\n",
    "(ControlledOnBitString([false, false, true, false, true, false, true, false, true, true], X))(inputs, output);\n",
    "(ControlledOnBitString([false, false, true, false, true, false, true, true, false, true], X))(inputs, output);\n",
    "(ControlledOnBitString([false, false, true, false, true, false, true, true, true, false], X))(inputs, output);\n",
    "(ControlledOnBitString([false, false, true, false, true, true, false, false, true, true], X))(inputs, output);\n",
    "(ControlledOnBitString([false, false, true, false, true, true, false, true, false, true], X))(inputs, output);\n",
    "(ControlledOnBitString([false, false, true, false, true, true, false, true, true, false], X))(inputs, output);\n",
    "(ControlledOnBitString([false, false, true, false, true, true, true, false, false, true], X))(inputs, output);\n",
    "(ControlledOnBitString([false, false, true, false, true, true, true, false, true, false], X))(inputs, output);\n",
    "(ControlledOnBitString([false, false, true, false, true, true, true, true, false, false], X))(inputs, output);\n",
    "(ControlledOnBitString([false, false, true, true, false, false, false, true, true, true], X))(inputs, output);\n",
    "(ControlledOnBitString([false, false, true, true, false, false, true, false, true, true], X))(inputs, output);\n",
    "(ControlledOnBitString([false, false, true, true, false, false, true, true, false, true], X))(inputs, output);\n",
    "(ControlledOnBitString([false, false, true, true, false, false, true, true, true, false], X))(inputs, output);\n",
    "(ControlledOnBitString([false, false, true, true, false, true, false, false, true, true], X))(inputs, output);\n",
    "(ControlledOnBitString([false, false, true, true, false, true, false, true, false, true], X))(inputs, output);\n",
    "(ControlledOnBitString([false, false, true, true, false, true, false, true, true, false], X))(inputs, output);\n",
    "(ControlledOnBitString([false, false, true, true, false, true, true, false, false, true], X))(inputs, output);\n",
    "(ControlledOnBitString([false, false, true, true, false, true, true, false, true, false], X))(inputs, output);\n",
    "(ControlledOnBitString([false, false, true, true, false, true, true, true, false, false], X))(inputs, output);\n",
    "(ControlledOnBitString([false, false, true, true, true, false, false, false, true, true], X))(inputs, output);\n",
    "(ControlledOnBitString([false, false, true, true, true, false, false, true, false, true], X))(inputs, output);\n",
    "(ControlledOnBitString([false, false, true, true, true, false, false, true, true, false], X))(inputs, output);\n",
    "(ControlledOnBitString([false, false, true, true, true, false, true, false, false, true], X))(inputs, output);\n",
    "(ControlledOnBitString([false, false, true, true, true, false, true, false, true, false], X))(inputs, output);\n",
    "(ControlledOnBitString([false, false, true, true, true, false, true, true, false, false], X))(inputs, output);\n",
    "(ControlledOnBitString([false, false, true, true, true, true, false, false, false, true], X))(inputs, output);\n",
    "(ControlledOnBitString([false, false, true, true, true, true, false, false, true, false], X))(inputs, output);\n",
    "(ControlledOnBitString([false, false, true, true, true, true, false, true, false, false], X))(inputs, output);\n",
    "(ControlledOnBitString([false, false, true, true, true, true, true, false, false, false], X))(inputs, output);\n",
    "(ControlledOnBitString([false, true, false, false, false, false, true, true, true, true], X))(inputs, output);\n",
    "(ControlledOnBitString([false, true, false, false, false, true, false, true, true, true], X))(inputs, output);\n",
    "(ControlledOnBitString([false, true, false, false, false, true, true, false, true, true], X))(inputs, output);\n",
    "(ControlledOnBitString([false, true, false, false, false, true, true, true, false, true], X))(inputs, output);\n",
    "(ControlledOnBitString([false, true, false, false, false, true, true, true, true, false], X))(inputs, output);\n",
    "(ControlledOnBitString([false, true, false, false, true, false, false, true, true, true], X))(inputs, output);\n",
    "(ControlledOnBitString([false, true, false, false, true, false, true, false, true, true], X))(inputs, output);\n",
    "(ControlledOnBitString([false, true, false, false, true, false, true, true, false, true], X))(inputs, output);\n",
    "(ControlledOnBitString([false, true, false, false, true, false, true, true, true, false], X))(inputs, output);\n",
    "(ControlledOnBitString([false, true, false, false, true, true, false, false, true, true], X))(inputs, output);\n",
    "(ControlledOnBitString([false, true, false, false, true, true, false, true, false, true], X))(inputs, output);\n",
    "(ControlledOnBitString([false, true, false, false, true, true, false, true, true, false], X))(inputs, output);\n",
    "(ControlledOnBitString([false, true, false, false, true, true, true, false, false, true], X))(inputs, output);\n",
    "(ControlledOnBitString([false, true, false, false, true, true, true, false, true, false], X))(inputs, output);\n",
    "(ControlledOnBitString([false, true, false, false, true, true, true, true, false, false], X))(inputs, output);\n",
    "(ControlledOnBitString([false, true, false, true, false, false, false, true, true, true], X))(inputs, output);\n",
    "(ControlledOnBitString([false, true, false, true, false, false, true, false, true, true], X))(inputs, output);\n",
    "(ControlledOnBitString([false, true, false, true, false, false, true, true, false, true], X))(inputs, output);\n",
    "(ControlledOnBitString([false, true, false, true, false, false, true, true, true, false], X))(inputs, output);\n",
    "(ControlledOnBitString([false, true, false, true, false, true, false, false, true, true], X))(inputs, output);\n",
    "(ControlledOnBitString([false, true, false, true, false, true, false, true, false, true], X))(inputs, output);\n",
    "(ControlledOnBitString([false, true, false, true, false, true, false, true, true, false], X))(inputs, output);\n",
    "(ControlledOnBitString([false, true, false, true, false, true, true, false, false, true], X))(inputs, output);\n",
    "(ControlledOnBitString([false, true, false, true, false, true, true, false, true, false], X))(inputs, output);\n",
    "(ControlledOnBitString([false, true, false, true, false, true, true, true, false, false], X))(inputs, output);\n",
    "(ControlledOnBitString([false, true, false, true, true, false, false, false, true, true], X))(inputs, output);\n",
    "(ControlledOnBitString([false, true, false, true, true, false, false, true, false, true], X))(inputs, output);\n",
    "(ControlledOnBitString([false, true, false, true, true, false, false, true, true, false], X))(inputs, output);\n",
    "(ControlledOnBitString([false, true, false, true, true, false, true, false, false, true], X))(inputs, output);\n",
    "(ControlledOnBitString([false, true, false, true, true, false, true, false, true, false], X))(inputs, output);\n",
    "(ControlledOnBitString([false, true, false, true, true, false, true, true, false, false], X))(inputs, output);\n",
    "(ControlledOnBitString([false, true, false, true, true, true, false, false, false, true], X))(inputs, output);\n",
    "(ControlledOnBitString([false, true, false, true, true, true, false, false, true, false], X))(inputs, output);\n",
    "(ControlledOnBitString([false, true, false, true, true, true, false, true, false, false], X))(inputs, output);\n",
    "(ControlledOnBitString([false, true, false, true, true, true, true, false, false, false], X))(inputs, output);\n",
    "(ControlledOnBitString([false, true, true, false, false, false, false, true, true, true], X))(inputs, output);\n",
    "(ControlledOnBitString([false, true, true, false, false, false, true, false, true, true], X))(inputs, output);\n",
    "(ControlledOnBitString([false, true, true, false, false, false, true, true, false, true], X))(inputs, output);\n",
    "(ControlledOnBitString([false, true, true, false, false, false, true, true, true, false], X))(inputs, output);\n",
    "(ControlledOnBitString([false, true, true, false, false, true, false, false, true, true], X))(inputs, output);\n",
    "(ControlledOnBitString([false, true, true, false, false, true, false, true, false, true], X))(inputs, output);\n",
    "(ControlledOnBitString([false, true, true, false, false, true, false, true, true, false], X))(inputs, output);\n",
    "(ControlledOnBitString([false, true, true, false, false, true, true, false, false, true], X))(inputs, output);\n",
    "(ControlledOnBitString([false, true, true, false, false, true, true, false, true, false], X))(inputs, output);\n",
    "(ControlledOnBitString([false, true, true, false, false, true, true, true, false, false], X))(inputs, output);\n",
    "(ControlledOnBitString([false, true, true, false, true, false, false, false, true, true], X))(inputs, output);\n",
    "(ControlledOnBitString([false, true, true, false, true, false, false, true, false, true], X))(inputs, output);\n",
    "(ControlledOnBitString([false, true, true, false, true, false, false, true, true, false], X))(inputs, output);\n",
    "(ControlledOnBitString([false, true, true, false, true, false, true, false, false, true], X))(inputs, output);\n",
    "(ControlledOnBitString([false, true, true, false, true, false, true, false, true, false], X))(inputs, output);\n",
    "(ControlledOnBitString([false, true, true, false, true, false, true, true, false, false], X))(inputs, output);\n",
    "(ControlledOnBitString([false, true, true, false, true, true, false, false, false, true], X))(inputs, output);\n",
    "(ControlledOnBitString([false, true, true, false, true, true, false, false, true, false], X))(inputs, output);\n",
    "(ControlledOnBitString([false, true, true, false, true, true, false, true, false, false], X))(inputs, output);\n",
    "(ControlledOnBitString([false, true, true, false, true, true, true, false, false, false], X))(inputs, output);\n",
    "(ControlledOnBitString([false, true, true, true, false, false, false, false, true, true], X))(inputs, output);\n",
    "(ControlledOnBitString([false, true, true, true, false, false, false, true, false, true], X))(inputs, output);\n",
    "(ControlledOnBitString([false, true, true, true, false, false, false, true, true, false], X))(inputs, output);\n",
    "(ControlledOnBitString([false, true, true, true, false, false, true, false, false, true], X))(inputs, output);\n",
    "(ControlledOnBitString([false, true, true, true, false, false, true, false, true, false], X))(inputs, output);\n",
    "(ControlledOnBitString([false, true, true, true, false, false, true, true, false, false], X))(inputs, output);\n",
    "(ControlledOnBitString([false, true, true, true, false, true, false, false, false, true], X))(inputs, output);\n",
    "(ControlledOnBitString([false, true, true, true, false, true, false, false, true, false], X))(inputs, output);\n",
    "(ControlledOnBitString([false, true, true, true, false, true, false, true, false, false], X))(inputs, output);\n",
    "(ControlledOnBitString([false, true, true, true, false, true, true, false, false, false], X))(inputs, output);\n",
    "(ControlledOnBitString([false, true, true, true, true, false, false, false, false, true], X))(inputs, output);\n",
    "(ControlledOnBitString([false, true, true, true, true, false, false, false, true, false], X))(inputs, output);\n",
    "(ControlledOnBitString([false, true, true, true, true, false, false, true, false, false], X))(inputs, output);\n",
    "(ControlledOnBitString([false, true, true, true, true, false, true, false, false, false], X))(inputs, output);\n",
    "(ControlledOnBitString([false, true, true, true, true, true, false, false, false, false], X))(inputs, output);\n",
    "(ControlledOnBitString([true, false, false, false, false, false, true, true, true, true], X))(inputs, output);\n",
    "(ControlledOnBitString([true, false, false, false, false, true, false, true, true, true], X))(inputs, output);\n",
    "(ControlledOnBitString([true, false, false, false, false, true, true, false, true, true], X))(inputs, output);\n",
    "(ControlledOnBitString([true, false, false, false, false, true, true, true, false, true], X))(inputs, output);\n",
    "(ControlledOnBitString([true, false, false, false, false, true, true, true, true, false], X))(inputs, output);\n",
    "(ControlledOnBitString([true, false, false, false, true, false, false, true, true, true], X))(inputs, output);\n",
    "(ControlledOnBitString([true, false, false, false, true, false, true, false, true, true], X))(inputs, output);\n",
    "(ControlledOnBitString([true, false, false, false, true, false, true, true, false, true], X))(inputs, output);\n",
    "(ControlledOnBitString([true, false, false, false, true, false, true, true, true, false], X))(inputs, output);\n",
    "(ControlledOnBitString([true, false, false, false, true, true, false, false, true, true], X))(inputs, output);\n",
    "(ControlledOnBitString([true, false, false, false, true, true, false, true, false, true], X))(inputs, output);\n",
    "(ControlledOnBitString([true, false, false, false, true, true, false, true, true, false], X))(inputs, output);\n",
    "(ControlledOnBitString([true, false, false, false, true, true, true, false, false, true], X))(inputs, output);\n",
    "(ControlledOnBitString([true, false, false, false, true, true, true, false, true, false], X))(inputs, output);\n",
    "(ControlledOnBitString([true, false, false, false, true, true, true, true, false, false], X))(inputs, output);\n",
    "(ControlledOnBitString([true, false, false, true, false, false, false, true, true, true], X))(inputs, output);\n",
    "(ControlledOnBitString([true, false, false, true, false, false, true, false, true, true], X))(inputs, output);\n",
    "(ControlledOnBitString([true, false, false, true, false, false, true, true, false, true], X))(inputs, output);\n",
    "(ControlledOnBitString([true, false, false, true, false, false, true, true, true, false], X))(inputs, output);\n",
    "(ControlledOnBitString([true, false, false, true, false, true, false, false, true, true], X))(inputs, output);\n",
    "(ControlledOnBitString([true, false, false, true, false, true, false, true, false, true], X))(inputs, output);\n",
    "(ControlledOnBitString([true, false, false, true, false, true, false, true, true, false], X))(inputs, output);\n",
    "(ControlledOnBitString([true, false, false, true, false, true, true, false, false, true], X))(inputs, output);\n",
    "(ControlledOnBitString([true, false, false, true, false, true, true, false, true, false], X))(inputs, output);\n",
    "(ControlledOnBitString([true, false, false, true, false, true, true, true, false, false], X))(inputs, output);\n",
    "(ControlledOnBitString([true, false, false, true, true, false, false, false, true, true], X))(inputs, output);\n",
    "(ControlledOnBitString([true, false, false, true, true, false, false, true, false, true], X))(inputs, output);\n",
    "(ControlledOnBitString([true, false, false, true, true, false, false, true, true, false], X))(inputs, output);\n",
    "(ControlledOnBitString([true, false, false, true, true, false, true, false, false, true], X))(inputs, output);\n",
    "(ControlledOnBitString([true, false, false, true, true, false, true, false, true, false], X))(inputs, output);\n",
    "(ControlledOnBitString([true, false, false, true, true, false, true, true, false, false], X))(inputs, output);\n",
    "(ControlledOnBitString([true, false, false, true, true, true, false, false, false, true], X))(inputs, output);\n",
    "(ControlledOnBitString([true, false, false, true, true, true, false, false, true, false], X))(inputs, output);\n",
    "(ControlledOnBitString([true, false, false, true, true, true, false, true, false, false], X))(inputs, output);\n",
    "(ControlledOnBitString([true, false, false, true, true, true, true, false, false, false], X))(inputs, output);\n",
    "(ControlledOnBitString([true, false, true, false, false, false, false, true, true, true], X))(inputs, output);\n",
    "(ControlledOnBitString([true, false, true, false, false, false, true, false, true, true], X))(inputs, output);\n",
    "(ControlledOnBitString([true, false, true, false, false, false, true, true, false, true], X))(inputs, output);\n",
    "(ControlledOnBitString([true, false, true, false, false, false, true, true, true, false], X))(inputs, output);\n",
    "(ControlledOnBitString([true, false, true, false, false, true, false, false, true, true], X))(inputs, output);\n",
    "(ControlledOnBitString([true, false, true, false, false, true, false, true, false, true], X))(inputs, output);\n",
    "(ControlledOnBitString([true, false, true, false, false, true, false, true, true, false], X))(inputs, output);\n",
    "(ControlledOnBitString([true, false, true, false, false, true, true, false, false, true], X))(inputs, output);\n",
    "(ControlledOnBitString([true, false, true, false, false, true, true, false, true, false], X))(inputs, output);\n",
    "(ControlledOnBitString([true, false, true, false, false, true, true, true, false, false], X))(inputs, output);\n",
    "(ControlledOnBitString([true, false, true, false, true, false, false, false, true, true], X))(inputs, output);\n",
    "(ControlledOnBitString([true, false, true, false, true, false, false, true, false, true], X))(inputs, output);\n",
    "(ControlledOnBitString([true, false, true, false, true, false, false, true, true, false], X))(inputs, output);\n",
    "(ControlledOnBitString([true, false, true, false, true, false, true, false, false, true], X))(inputs, output);\n",
    "(ControlledOnBitString([true, false, true, false, true, false, true, false, true, false], X))(inputs, output);\n",
    "(ControlledOnBitString([true, false, true, false, true, false, true, true, false, false], X))(inputs, output);\n",
    "(ControlledOnBitString([true, false, true, false, true, true, false, false, false, true], X))(inputs, output);\n",
    "(ControlledOnBitString([true, false, true, false, true, true, false, false, true, false], X))(inputs, output);\n",
    "(ControlledOnBitString([true, false, true, false, true, true, false, true, false, false], X))(inputs, output);\n",
    "(ControlledOnBitString([true, false, true, false, true, true, true, false, false, false], X))(inputs, output);\n",
    "(ControlledOnBitString([true, false, true, true, false, false, false, false, true, true], X))(inputs, output);\n",
    "(ControlledOnBitString([true, false, true, true, false, false, false, true, false, true], X))(inputs, output);\n",
    "(ControlledOnBitString([true, false, true, true, false, false, false, true, true, false], X))(inputs, output);\n",
    "(ControlledOnBitString([true, false, true, true, false, false, true, false, false, true], X))(inputs, output);\n",
    "(ControlledOnBitString([true, false, true, true, false, false, true, false, true, false], X))(inputs, output);\n",
    "(ControlledOnBitString([true, false, true, true, false, false, true, true, false, false], X))(inputs, output);\n",
    "(ControlledOnBitString([true, false, true, true, false, true, false, false, false, true], X))(inputs, output);\n",
    "(ControlledOnBitString([true, false, true, true, false, true, false, false, true, false], X))(inputs, output);\n",
    "(ControlledOnBitString([true, false, true, true, false, true, false, true, false, false], X))(inputs, output);\n",
    "(ControlledOnBitString([true, false, true, true, false, true, true, false, false, false], X))(inputs, output);\n",
    "(ControlledOnBitString([true, false, true, true, true, false, false, false, false, true], X))(inputs, output);\n",
    "(ControlledOnBitString([true, false, true, true, true, false, false, false, true, false], X))(inputs, output);\n",
    "(ControlledOnBitString([true, false, true, true, true, false, false, true, false, false], X))(inputs, output);\n",
    "(ControlledOnBitString([true, false, true, true, true, false, true, false, false, false], X))(inputs, output);\n",
    "(ControlledOnBitString([true, false, true, true, true, true, false, false, false, false], X))(inputs, output);\n",
    "(ControlledOnBitString([true, true, false, false, false, false, false, true, true, true], X))(inputs, output);\n",
    "(ControlledOnBitString([true, true, false, false, false, false, true, false, true, true], X))(inputs, output);\n",
    "(ControlledOnBitString([true, true, false, false, false, false, true, true, false, true], X))(inputs, output);\n",
    "(ControlledOnBitString([true, true, false, false, false, false, true, true, true, false], X))(inputs, output);\n",
    "(ControlledOnBitString([true, true, false, false, false, true, false, false, true, true], X))(inputs, output);\n",
    "(ControlledOnBitString([true, true, false, false, false, true, false, true, false, true], X))(inputs, output);\n",
    "(ControlledOnBitString([true, true, false, false, false, true, false, true, true, false], X))(inputs, output);\n",
    "(ControlledOnBitString([true, true, false, false, false, true, true, false, false, true], X))(inputs, output);\n",
    "(ControlledOnBitString([true, true, false, false, false, true, true, false, true, false], X))(inputs, output);\n",
    "(ControlledOnBitString([true, true, false, false, false, true, true, true, false, false], X))(inputs, output);\n",
    "(ControlledOnBitString([true, true, false, false, true, false, false, false, true, true], X))(inputs, output);\n",
    "(ControlledOnBitString([true, true, false, false, true, false, false, true, false, true], X))(inputs, output);\n",
    "(ControlledOnBitString([true, true, false, false, true, false, false, true, true, false], X))(inputs, output);\n",
    "(ControlledOnBitString([true, true, false, false, true, false, true, false, false, true], X))(inputs, output);\n",
    "(ControlledOnBitString([true, true, false, false, true, false, true, false, true, false], X))(inputs, output);\n",
    "(ControlledOnBitString([true, true, false, false, true, false, true, true, false, false], X))(inputs, output);\n",
    "(ControlledOnBitString([true, true, false, false, true, true, false, false, false, true], X))(inputs, output);\n",
    "(ControlledOnBitString([true, true, false, false, true, true, false, false, true, false], X))(inputs, output);\n",
    "(ControlledOnBitString([true, true, false, false, true, true, false, true, false, false], X))(inputs, output);\n",
    "(ControlledOnBitString([true, true, false, false, true, true, true, false, false, false], X))(inputs, output);\n",
    "(ControlledOnBitString([true, true, false, true, false, false, false, false, true, true], X))(inputs, output);\n",
    "(ControlledOnBitString([true, true, false, true, false, false, false, true, false, true], X))(inputs, output);\n",
    "(ControlledOnBitString([true, true, false, true, false, false, false, true, true, false], X))(inputs, output);\n",
    "(ControlledOnBitString([true, true, false, true, false, false, true, false, false, true], X))(inputs, output);\n",
    "(ControlledOnBitString([true, true, false, true, false, false, true, false, true, false], X))(inputs, output);\n",
    "(ControlledOnBitString([true, true, false, true, false, false, true, true, false, false], X))(inputs, output);\n",
    "(ControlledOnBitString([true, true, false, true, false, true, false, false, false, true], X))(inputs, output);\n",
    "(ControlledOnBitString([true, true, false, true, false, true, false, false, true, false], X))(inputs, output);\n",
    "(ControlledOnBitString([true, true, false, true, false, true, false, true, false, false], X))(inputs, output);\n",
    "(ControlledOnBitString([true, true, false, true, false, true, true, false, false, false], X))(inputs, output);\n",
    "(ControlledOnBitString([true, true, false, true, true, false, false, false, false, true], X))(inputs, output);\n",
    "(ControlledOnBitString([true, true, false, true, true, false, false, false, true, false], X))(inputs, output);\n",
    "(ControlledOnBitString([true, true, false, true, true, false, false, true, false, false], X))(inputs, output);\n",
    "(ControlledOnBitString([true, true, false, true, true, false, true, false, false, false], X))(inputs, output);\n",
    "(ControlledOnBitString([true, true, false, true, true, true, false, false, false, false], X))(inputs, output);\n",
    "(ControlledOnBitString([true, true, true, false, false, false, false, false, true, true], X))(inputs, output);\n",
    "(ControlledOnBitString([true, true, true, false, false, false, false, true, false, true], X))(inputs, output);\n",
    "(ControlledOnBitString([true, true, true, false, false, false, false, true, true, false], X))(inputs, output);\n",
    "(ControlledOnBitString([true, true, true, false, false, false, true, false, false, true], X))(inputs, output);\n",
    "(ControlledOnBitString([true, true, true, false, false, false, true, false, true, false], X))(inputs, output);\n",
    "(ControlledOnBitString([true, true, true, false, false, false, true, true, false, false], X))(inputs, output);\n",
    "(ControlledOnBitString([true, true, true, false, false, true, false, false, false, true], X))(inputs, output);\n",
    "(ControlledOnBitString([true, true, true, false, false, true, false, false, true, false], X))(inputs, output);\n",
    "(ControlledOnBitString([true, true, true, false, false, true, false, true, false, false], X))(inputs, output);\n",
    "(ControlledOnBitString([true, true, true, false, false, true, true, false, false, false], X))(inputs, output);\n",
    "(ControlledOnBitString([true, true, true, false, true, false, false, false, false, true], X))(inputs, output);\n",
    "(ControlledOnBitString([true, true, true, false, true, false, false, false, true, false], X))(inputs, output);\n",
    "(ControlledOnBitString([true, true, true, false, true, false, false, true, false, false], X))(inputs, output);\n",
    "(ControlledOnBitString([true, true, true, false, true, false, true, false, false, false], X))(inputs, output);\n",
    "(ControlledOnBitString([true, true, true, false, true, true, false, false, false, false], X))(inputs, output);\n",
    "(ControlledOnBitString([true, true, true, true, false, false, false, false, false, true], X))(inputs, output);\n",
    "(ControlledOnBitString([true, true, true, true, false, false, false, false, true, false], X))(inputs, output);\n",
    "(ControlledOnBitString([true, true, true, true, false, false, false, true, false, false], X))(inputs, output);\n",
    "(ControlledOnBitString([true, true, true, true, false, false, true, false, false, false], X))(inputs, output);\n",
    "(ControlledOnBitString([true, true, true, true, false, true, false, false, false, false], X))(inputs, output);\n",
    "(ControlledOnBitString([true, true, true, true, true, false, false, false, false, false], X))(inputs, output);\n",
    "    }\n",
    "else {\n",
    "    using (anc = Qubit[3]) {\n",
    "        for (q in inputs) {\n",
    "            (Controlled Incr)([q],anc);\n",
    "        }\n",
    "        (ControlledOnInt(N/2,X))(anc,output);\n",
    "        for (q in inputs) {\n",
    "            (Controlled Decr)([q],anc);\n",
    "        }\n",
    "    }\n",
    "}\n",
    "}"
   ]
  },
  {
   "cell_type": "code",
   "execution_count": 6,
   "metadata": {
    "scrolled": true
   },
   "outputs": [
    {
     "name": "stderr",
     "output_type": "stream",
     "text": [
      "/snippet_.qs(6,9): error QS5022: No identifier with the name \"Solve\" exists.\n"
     ]
    }
   ],
   "source": [
    "open Microsoft.Quantum.Diagnostics;\n",
    "open Microsoft.Quantum.Arithmetic;\n",
    "operation Harness() : Unit {\n",
    "    using ((qs,y) = (Qubit[2],Qubit())) {\n",
    "        ApplyToEach(H,qs);\n",
    "        Solve(qs,y);\n",
    "        DumpRegister((),qs+[y]);\n",
    "        ResetAll(qs);\n",
    "        Reset(y);\n",
    "    }\n",
    "}"
   ]
  },
  {
   "cell_type": "code",
   "execution_count": 7,
   "metadata": {},
   "outputs": [
    {
     "name": "stderr",
     "output_type": "stream",
     "text": [
      "Invalid operation name: Harness\n"
     ]
    }
   ],
   "source": [
    "%simulate Harness"
   ]
  },
  {
   "cell_type": "code",
   "execution_count": 99,
   "metadata": {},
   "outputs": [
    {
     "name": "stderr",
     "output_type": "stream",
     "text": [
      "/snippet_f78f77a8-8421-41e1-a4da-1c11bcee1dc1.qs(6,9): error QS5022: No identifier with the name \"Solve\" exists.\n"
     ]
    }
   ],
   "source": [
    "open Microsoft.Quantum.Arithmetic;\n",
    "operation Incr (register : LittleEndian) : Unit is Adj+Ctl {\n",
    "    let qarray = register!;\n",
    "    let N = Length(qarray);\n",
    "    for (i in N-1..-1..1) {\n",
    "        (ControlledOnInt(2^i-1, X))(qarray[0..i-1],qarray[i]);\n",
    "    }\n",
    "    X(qarray[0]);\n",
    "}"
   ]
  },
  {
   "cell_type": "code",
   "execution_count": null,
   "metadata": {},
   "outputs": [],
   "source": [
    "open Microsoft.Quantum.Arithmetic;\n",
    "open Microsoft.Quantum.Canon;\n",
    "open Microsoft.Quantum.Intrinsic;\n",
    "open Microsoft.Quantum.Diagnostics;\n",
    "operation testing_harness() : Unit {\n",
    "    using (qs = Qubit[2]) {\n",
    "        let qsle = LittleEndian(qs);\n",
    "        Incr(qsle);\n",
    "        DumpMachine();\n",
    "        Incr(qsle);\n",
    "        DumpMachine();\n",
    "        ResetAll(qs);\n",
    "    }\n",
    "}"
   ]
  },
  {
   "cell_type": "code",
   "execution_count": null,
   "metadata": {},
   "outputs": [],
   "source": [
    "%simulate testing_harness"
   ]
  },
  {
   "cell_type": "code",
   "execution_count": 10,
   "metadata": {},
   "outputs": [
    {
     "data": {
      "application/json": "[\"Array\",\"FeaturesTensorWithAncilla\"]",
      "text/html": [
       "<ul><li>Array</li><li>FeaturesTensorWithAncilla</li></ul>"
      ],
      "text/plain": [
       "Array, FeaturesTensorWithAncilla"
      ]
     },
     "execution_count": 10,
     "metadata": {},
     "output_type": "execute_result"
    }
   ],
   "source": [
    "open Microsoft.Quantum.Diagnostics;\n",
    "function FeaturesTensorWithAncilla (auxil : Double[], input : Double[]) : Double[] {\n",
    "        mutable ret = new Double[Length(auxil) * Length(input)];\n",
    "        for (j in 0 .. Length(auxil) - 1) {\n",
    "            for (k in 0 .. Length(input) - 1) {\n",
    "                set ret w/= (j * Length(input) + k) <- (auxil[j] * input[k]);   \n",
    "            }\n",
    "        }\n",
    "        return ret;\n",
    "    }\n",
    "operation Array() : Unit {\n",
    "    let auxil = [1.0,1.1];\n",
    "    let input = [2.0,3.0];\n",
    "    let halfLa = Length(auxil)/2;\n",
    "    let halfLi = Length(input)/2;\n",
    "    let left = auxil[...(halfLa-1)] + input[...(halfLi-1)];\n",
    "    let right = auxil[halfLa...] + input[halfLi...];\n",
    "    Message($\"{left}, {right}\");\n",
    "    let ans = FeaturesTensorWithAncilla(left,right);\n",
    "    Message($\"{ans}\");\n",
    "}"
   ]
  },
  {
   "cell_type": "code",
   "execution_count": 11,
   "metadata": {},
   "outputs": [
    {
     "name": "stdout",
     "output_type": "stream",
     "text": [
      "[1,2], [1.1,3]\n",
      "[1.1,3,2.2,6]\n"
     ]
    },
    {
     "data": {
      "application/json": "{\"@type\":\"tuple\"}",
      "text/plain": [
       "()"
      ]
     },
     "execution_count": 11,
     "metadata": {},
     "output_type": "execute_result"
    }
   ],
   "source": [
    "%simulate Array"
   ]
  },
  {
   "cell_type": "code",
   "execution_count": null,
   "metadata": {},
   "outputs": [],
   "source": []
  },
  {
   "cell_type": "code",
   "execution_count": null,
   "metadata": {},
   "outputs": [],
   "source": []
  }
 ],
 "metadata": {
  "kernelspec": {
   "display_name": "Q#",
   "language": "qsharp",
   "name": "iqsharp"
  },
  "language_info": {
   "file_extension": ".qs",
   "mimetype": "text/x-qsharp",
   "name": "qsharp",
   "version": "0.10"
  }
 },
 "nbformat": 4,
 "nbformat_minor": 4
}
